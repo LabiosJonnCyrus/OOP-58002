{
  "nbformat": 4,
  "nbformat_minor": 0,
  "metadata": {
    "colab": {
      "name": "Prog 2 midterm exam.ipynb",
      "provenance": [],
      "authorship_tag": "ABX9TyM3B8eQ7FkHXInKFScTb4AH",
      "include_colab_link": true
    },
    "kernelspec": {
      "name": "python3",
      "display_name": "Python 3"
    },
    "language_info": {
      "name": "python"
    }
  },
  "cells": [
    {
      "cell_type": "markdown",
      "metadata": {
        "id": "view-in-github",
        "colab_type": "text"
      },
      "source": [
        "<a href=\"https://colab.research.google.com/github/jayslabios/OOP-58002/blob/main/Prog_2_midterm_exam.ipynb\" target=\"_parent\"><img src=\"https://colab.research.google.com/assets/colab-badge.svg\" alt=\"Open In Colab\"/></a>"
      ]
    },
    {
      "cell_type": "code",
      "source": [
        "from tkinter import *\n",
        "\n",
        "def action():\n",
        "    name = entryName.get()\n",
        "    lblDisplay['text'] =  name\n",
        "\n",
        "\n",
        "window = Tk()\n",
        "window.title('Midterm in OOP')\n",
        "window.geometry(\"500x200\")\n",
        "\n",
        "\n",
        "lblName = Label(window , text= \"Enter your fullname : \" , width = 20, fg='red' )\n",
        "lblName.place(x = 10 , y = 50)\n",
        "entryName = Entry(window, width = 30)\n",
        "entryName.place(x = 250 , y = 50)\n",
        "\n",
        "\n",
        "lblDisplay = Label(window)\n",
        "lblDisplay.place(x = 250 , y = 100)\n",
        "\n",
        "\n",
        "btnAction = Button(window , text = \"Click to display yor Fullname\" , width = 25 , fg='red', command = action)\n",
        "btnAction.place(x = 10 , y = 100)\n",
        "\n",
        "window.mainloop()"
      ],
      "metadata": {
        "id": "RyMCo2XOyrJs"
      },
      "execution_count": null,
      "outputs": []
    }
  ]
}