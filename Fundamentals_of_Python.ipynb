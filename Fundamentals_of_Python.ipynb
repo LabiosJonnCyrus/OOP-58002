{
  "nbformat": 4,
  "nbformat_minor": 0,
  "metadata": {
    "colab": {
      "name": "Fundamentals of Python",
      "provenance": [],
      "collapsed_sections": [],
      "toc_visible": true,
      "authorship_tag": "ABX9TyMNCv3v00WGhbY1RpUQsxN0",
      "include_colab_link": true
    },
    "kernelspec": {
      "name": "python3",
      "display_name": "Python 3"
    },
    "language_info": {
      "name": "python"
    }
  },
  "cells": [
    {
      "cell_type": "markdown",
      "metadata": {
        "id": "view-in-github",
        "colab_type": "text"
      },
      "source": [
        "<a href=\"https://colab.research.google.com/github/jayslabios/OOP-58002/blob/main/Fundamentals_of_Python.ipynb\" target=\"_parent\"><img src=\"https://colab.research.google.com/assets/colab-badge.svg\" alt=\"Open In Colab\"/></a>"
      ]
    },
    {
      "cell_type": "markdown",
      "source": [
        "## Fundamentals of Python"
      ],
      "metadata": {
        "id": "lLVNvco8JJtF"
      }
    },
    {
      "cell_type": "markdown",
      "source": [
        "Python Identation"
      ],
      "metadata": {
        "id": "d2NQrB25Rd8b"
      }
    },
    {
      "cell_type": "code",
      "source": [
        "if5>2\n",
        "print(\"Yes\")\n"
      ],
      "metadata": {
        "colab": {
          "base_uri": "https://localhost:8080/",
          "height": 183
        },
        "id": "ERVmbFlRTapK",
        "outputId": "7056200b-d4a1-4576-d9cf-3382546a7dff"
      },
      "execution_count": 20,
      "outputs": [
        {
          "output_type": "error",
          "ename": "NameError",
          "evalue": "ignored",
          "traceback": [
            "\u001b[0;31m---------------------------------------------------------------------------\u001b[0m",
            "\u001b[0;31mNameError\u001b[0m                                 Traceback (most recent call last)",
            "\u001b[0;32m<ipython-input-20-1d4ae4fb91c8>\u001b[0m in \u001b[0;36m<module>\u001b[0;34m()\u001b[0m\n\u001b[0;32m----> 1\u001b[0;31m \u001b[0mif5\u001b[0m\u001b[0;34m>\u001b[0m\u001b[0;36m2\u001b[0m\u001b[0;34m\u001b[0m\u001b[0;34m\u001b[0m\u001b[0m\n\u001b[0m\u001b[1;32m      2\u001b[0m \u001b[0mprint\u001b[0m\u001b[0;34m(\u001b[0m\u001b[0;34m\"Yes\"\u001b[0m\u001b[0;34m)\u001b[0m\u001b[0;34m\u001b[0m\u001b[0;34m\u001b[0m\u001b[0m\n",
            "\u001b[0;31mNameError\u001b[0m: name 'if5' is not defined"
          ]
        }
      ]
    },
    {
      "cell_type": "markdown",
      "source": [
        "Python Comments"
      ],
      "metadata": {
        "id": "OUCw8_KaRwLh"
      }
    },
    {
      "cell_type": "code",
      "source": [
        "#This is a comment\n",
        "print(\"Hello, World\")"
      ],
      "metadata": {
        "colab": {
          "base_uri": "https://localhost:8080/"
        },
        "id": "knR-qmVxR0S7",
        "outputId": "f1a4971a-eb13-4f10-bf16-ec4b6a372466"
      },
      "execution_count": 18,
      "outputs": [
        {
          "output_type": "stream",
          "name": "stdout",
          "text": [
            "Hello, World\n"
          ]
        }
      ]
    },
    {
      "cell_type": "markdown",
      "source": [
        "Python Variable"
      ],
      "metadata": {
        "id": "jUCjwtmxR5IZ"
      }
    },
    {
      "cell_type": "code",
      "source": [
        "x= \"Sally\"\n",
        "a=0\n",
        "a,b,c=0,1,2\n",
        "print(x)"
      ],
      "metadata": {
        "colab": {
          "base_uri": "https://localhost:8080/"
        },
        "id": "jk7u3zZXR-ls",
        "outputId": "85a5832f-34d6-42ab-bbe5-cfebb02f1a1d"
      },
      "execution_count": 19,
      "outputs": [
        {
          "output_type": "stream",
          "name": "stdout",
          "text": [
            "Sally\n"
          ]
        }
      ]
    },
    {
      "cell_type": "markdown",
      "source": [
        "Casting"
      ],
      "metadata": {
        "id": "j7Vfm_n2SGvF"
      }
    },
    {
      "cell_type": "code",
      "source": [
        "d=4\n",
        "d=int(4)\n",
        "print(d)"
      ],
      "metadata": {
        "colab": {
          "base_uri": "https://localhost:8080/"
        },
        "id": "q97x0-LNSH9m",
        "outputId": "b2b22993-3b95-40f8-bb98-8f0932b298f9"
      },
      "execution_count": 4,
      "outputs": [
        {
          "output_type": "stream",
          "name": "stdout",
          "text": [
            "4\n"
          ]
        }
      ]
    },
    {
      "cell_type": "markdown",
      "source": [
        "Type() function"
      ],
      "metadata": {
        "id": "RtrrL5IqSLnM"
      }
    },
    {
      "cell_type": "code",
      "source": [
        "#=\"Ana\"\n",
        "#print(y)\n",
        "\n",
        "y='Tony'\n",
        "Y=\"Ezikiel\"\n",
        "print(y)\n",
        "print(Y)\n"
      ],
      "metadata": {
        "colab": {
          "base_uri": "https://localhost:8080/"
        },
        "id": "kUgOkStuSPT4",
        "outputId": "76de391d-3a4a-4801-ee08-8d21e75576e2"
      },
      "execution_count": 5,
      "outputs": [
        {
          "output_type": "stream",
          "name": "stdout",
          "text": [
            "Tony\n",
            "Ezikiel\n"
          ]
        }
      ]
    },
    {
      "cell_type": "markdown",
      "source": [
        "Multiple Variables with one value"
      ],
      "metadata": {
        "id": "18UPmYgrSR6k"
      }
    },
    {
      "cell_type": "code",
      "source": [
        "#x=\"Tony\"\n",
        "k=l=m=\"four\"\n",
        "print(k)\n",
        "print(l)\n",
        "print(m)\n",
        "print(k,l,m)"
      ],
      "metadata": {
        "colab": {
          "base_uri": "https://localhost:8080/"
        },
        "id": "4Atqx1XcSZBV",
        "outputId": "ec19d57f-80e0-4d3d-aac1-abcd392c501e"
      },
      "execution_count": 6,
      "outputs": [
        {
          "output_type": "stream",
          "name": "stdout",
          "text": [
            "four\n",
            "four\n",
            "four\n",
            "four four four\n"
          ]
        }
      ]
    },
    {
      "cell_type": "markdown",
      "source": [
        "Output Variable"
      ],
      "metadata": {
        "id": "3IJNGv1qSdwe"
      }
    },
    {
      "cell_type": "code",
      "source": [
        "print('Python programming is enjoying')\n",
        "\n",
        "h=\"enjoying\"\n",
        "p=\"Python programming is\"\n",
        "print(\"python programming is\" + h)\n",
        "print(p+\"\"+\"\"+h)\n"
      ],
      "metadata": {
        "colab": {
          "base_uri": "https://localhost:8080/"
        },
        "id": "VQv_cboFSgqE",
        "outputId": "e5c881cb-24cc-4f46-98b1-27a5b85882f5"
      },
      "execution_count": 7,
      "outputs": [
        {
          "output_type": "stream",
          "name": "stdout",
          "text": [
            "Python programming is enjoying\n",
            "python programming isenjoying\n",
            "Python programming isenjoying\n"
          ]
        }
      ]
    },
    {
      "cell_type": "markdown",
      "source": [
        "Arithmethic Operations"
      ],
      "metadata": {
        "id": "whrA802_Si_Q"
      }
    },
    {
      "cell_type": "code",
      "source": [
        "print(c+d) #c=2, d=4\n",
        "print(d-c)\n",
        "print(d*c)\n",
        "print(d/c)\n",
        "print(d%c)\n",
        "print(3//2)   #1.50\n",
        "print(d**c)"
      ],
      "metadata": {
        "colab": {
          "base_uri": "https://localhost:8080/"
        },
        "id": "O-p5lqClSm4K",
        "outputId": "593749e5-db6d-413c-b15f-b09a5e5225f5"
      },
      "execution_count": 8,
      "outputs": [
        {
          "output_type": "stream",
          "name": "stdout",
          "text": [
            "6\n",
            "2\n",
            "8\n",
            "2.0\n",
            "0\n",
            "1\n",
            "16\n"
          ]
        }
      ]
    },
    {
      "cell_type": "markdown",
      "source": [
        "Assignment operatos"
      ],
      "metadata": {
        "id": "y_p8vw_jSpny"
      }
    },
    {
      "cell_type": "code",
      "source": [
        "q=10\n",
        "q+=5 #same as q=q+5\n",
        "\n",
        "print(q) #sames as q=q+5, q=10+5=15"
      ],
      "metadata": {
        "colab": {
          "base_uri": "https://localhost:8080/"
        },
        "id": "Tad7CFKbSucY",
        "outputId": "34a1e5d9-ca9e-4eaf-fe71-967ad15ff0a0"
      },
      "execution_count": 9,
      "outputs": [
        {
          "output_type": "stream",
          "name": "stdout",
          "text": [
            "15\n"
          ]
        }
      ]
    },
    {
      "cell_type": "markdown",
      "source": [
        "Boolean logic"
      ],
      "metadata": {
        "id": "5QtWBIjoSwyd"
      }
    },
    {
      "cell_type": "code",
      "source": [
        "s=10\n",
        "print(s^2)\n",
        "print(s|2)"
      ],
      "metadata": {
        "colab": {
          "base_uri": "https://localhost:8080/"
        },
        "id": "-oy-UC6XSzK9",
        "outputId": "c538f50f-1249-4ed3-e97f-eebcdf5283c7"
      },
      "execution_count": 10,
      "outputs": [
        {
          "output_type": "stream",
          "name": "stdout",
          "text": [
            "8\n",
            "10\n"
          ]
        }
      ]
    },
    {
      "cell_type": "markdown",
      "source": [
        "Comparison Operators"
      ],
      "metadata": {
        "id": "Ws3GnyYYS2t1"
      }
    },
    {
      "cell_type": "code",
      "source": [
        "print(s>q)\n",
        "print(s==s)\n",
        "print(q==q)"
      ],
      "metadata": {
        "colab": {
          "base_uri": "https://localhost:8080/"
        },
        "id": "uBrAH64PS6Hq",
        "outputId": "eccc7b76-a375-42d6-b874-a27ff0775484"
      },
      "execution_count": 11,
      "outputs": [
        {
          "output_type": "stream",
          "name": "stdout",
          "text": [
            "False\n",
            "True\n",
            "True\n"
          ]
        }
      ]
    },
    {
      "cell_type": "markdown",
      "source": [
        "Logical Operatos"
      ],
      "metadata": {
        "id": "_2jUuVUYS7zT"
      }
    },
    {
      "cell_type": "code",
      "source": [
        "s>q and s==s #False \n",
        "s>q or s==s #True\n",
        "\n",
        "print(s>q and s==s)\n",
        "print(s>q or s==s)"
      ],
      "metadata": {
        "colab": {
          "base_uri": "https://localhost:8080/"
        },
        "id": "_h2n6I-lS94s",
        "outputId": "25748c9f-bd63-45fd-a695-5f26845e0bcd"
      },
      "execution_count": 12,
      "outputs": [
        {
          "output_type": "stream",
          "name": "stdout",
          "text": [
            "False\n",
            "True\n"
          ]
        }
      ]
    },
    {
      "cell_type": "markdown",
      "source": [
        "Bitwise operator shift right/left"
      ],
      "metadata": {
        "id": "pvFc0FtLTAKz"
      }
    },
    {
      "cell_type": "code",
      "source": [
        "u=2 #1010 in binary\n",
        "print(u<<1) \n",
        "\n",
        "g=10\n",
        "print(g<<1)\n"
      ],
      "metadata": {
        "colab": {
          "base_uri": "https://localhost:8080/"
        },
        "id": "1Y2_XgjmTEyl",
        "outputId": "ab32bba2-ba62-4759-bb3d-870b73037a5e"
      },
      "execution_count": 13,
      "outputs": [
        {
          "output_type": "stream",
          "name": "stdout",
          "text": [
            "4\n",
            "20\n"
          ]
        }
      ]
    }
  ]
}