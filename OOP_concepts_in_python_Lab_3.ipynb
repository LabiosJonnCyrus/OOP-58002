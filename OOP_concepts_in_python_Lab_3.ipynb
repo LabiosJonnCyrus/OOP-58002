{
  "nbformat": 4,
  "nbformat_minor": 0,
  "metadata": {
    "colab": {
      "name": "OOP concepts in python_Lab 3",
      "provenance": [],
      "collapsed_sections": [],
      "authorship_tag": "ABX9TyOeZOW3sXXjaYBPninVPIct",
      "include_colab_link": true
    },
    "kernelspec": {
      "name": "python3",
      "display_name": "Python 3"
    },
    "language_info": {
      "name": "python"
    }
  },
  "cells": [
    {
      "cell_type": "markdown",
      "metadata": {
        "id": "view-in-github",
        "colab_type": "text"
      },
      "source": [
        "<a href=\"https://colab.research.google.com/github/jayslabios/OOP-58002/blob/main/OOP_concepts_in_python_Lab_3.ipynb\" target=\"_parent\"><img src=\"https://colab.research.google.com/assets/colab-badge.svg\" alt=\"Open In Colab\"/></a>"
      ]
    },
    {
      "cell_type": "markdown",
      "source": [
        "Creat a Class"
      ],
      "metadata": {
        "id": "b58Lku_1eOO6"
      }
    },
    {
      "cell_type": "code",
      "execution_count": 1,
      "metadata": {
        "id": "0zewpUEhbhq5"
      },
      "outputs": [],
      "source": [
        "class Car:\n",
        "  pass"
      ]
    },
    {
      "cell_type": "code",
      "source": [
        "class Car:\n",
        "  def __init__(self,brand,mileage):\n",
        "    self.brand = brand                          #attribute names for class of Car\n",
        "    self.mileage = mileage\n",
        "\n",
        "  def description(self):\n",
        "    return self.brand, self.mileage\n",
        "\n",
        "  def display(self):\n",
        "    print(\"The brand\", self.brand , \"has a mileage of\", self.mileage)\n",
        "\n",
        "car1 = Car(\"Honda City\", 24.1)\n",
        "print(car1.display())"
      ],
      "metadata": {
        "colab": {
          "base_uri": "https://localhost:8080/"
        },
        "id": "0s9znXTNfv1h",
        "outputId": "b922949a-adff-4ec3-edb8-4744e4a39a6e"
      },
      "execution_count": 2,
      "outputs": [
        {
          "output_type": "stream",
          "name": "stdout",
          "text": [
            "The brand Honda City has a mileage of 24.1\n",
            "None\n"
          ]
        }
      ]
    },
    {
      "cell_type": "markdown",
      "source": [
        "Modify Object Property"
      ],
      "metadata": {
        "id": "a0QGX7nHf0E8"
      }
    },
    {
      "cell_type": "code",
      "source": [
        "car1.brand = \"Toyota\"\n",
        "print(car1.brand)"
      ],
      "metadata": {
        "colab": {
          "base_uri": "https://localhost:8080/"
        },
        "id": "sVEjgn7kgFNv",
        "outputId": "d16ad251-25bf-4687-f36e-0319b12a121d"
      },
      "execution_count": 3,
      "outputs": [
        {
          "output_type": "stream",
          "name": "stdout",
          "text": [
            "Toyota\n"
          ]
        }
      ]
    },
    {
      "cell_type": "code",
      "source": [
        "print(car1.display())"
      ],
      "metadata": {
        "colab": {
          "base_uri": "https://localhost:8080/"
        },
        "id": "pjmTgJK6gIvC",
        "outputId": "f0bc492b-03f8-40e0-ce6d-065850cf3288"
      },
      "execution_count": 4,
      "outputs": [
        {
          "output_type": "stream",
          "name": "stdout",
          "text": [
            "The brand Toyota has a mileage of 24.1\n",
            "None\n"
          ]
        }
      ]
    },
    {
      "cell_type": "markdown",
      "source": [
        "Delete an Object Property"
      ],
      "metadata": {
        "id": "7QN4HIuKgLjD"
      }
    },
    {
      "cell_type": "code",
      "source": [
        "del car1.mileage\n",
        "print(car1.mileage)"
      ],
      "metadata": {
        "colab": {
          "base_uri": "https://localhost:8080/",
          "height": 183
        },
        "id": "fbFFHiYOgQ6b",
        "outputId": "8f26d686-3673-4ac8-aa5e-878f34da5ef5"
      },
      "execution_count": 5,
      "outputs": [
        {
          "output_type": "error",
          "ename": "AttributeError",
          "evalue": "ignored",
          "traceback": [
            "\u001b[0;31m---------------------------------------------------------------------------\u001b[0m",
            "\u001b[0;31mAttributeError\u001b[0m                            Traceback (most recent call last)",
            "\u001b[0;32m<ipython-input-5-3ef4c0668d0e>\u001b[0m in \u001b[0;36m<module>\u001b[0;34m()\u001b[0m\n\u001b[1;32m      1\u001b[0m \u001b[0;32mdel\u001b[0m \u001b[0mcar1\u001b[0m\u001b[0;34m.\u001b[0m\u001b[0mmileage\u001b[0m\u001b[0;34m\u001b[0m\u001b[0;34m\u001b[0m\u001b[0m\n\u001b[0;32m----> 2\u001b[0;31m \u001b[0mprint\u001b[0m\u001b[0;34m(\u001b[0m\u001b[0mcar1\u001b[0m\u001b[0;34m.\u001b[0m\u001b[0mmileage\u001b[0m\u001b[0;34m)\u001b[0m\u001b[0;34m\u001b[0m\u001b[0;34m\u001b[0m\u001b[0m\n\u001b[0m",
            "\u001b[0;31mAttributeError\u001b[0m: 'Car' object has no attribute 'mileage'"
          ]
        }
      ]
    },
    {
      "cell_type": "code",
      "source": [
        "print(car1.description())"
      ],
      "metadata": {
        "colab": {
          "base_uri": "https://localhost:8080/",
          "height": 287
        },
        "id": "0NvukVH7gWdU",
        "outputId": "557c4c37-655b-4416-fda6-7ddba701c207"
      },
      "execution_count": 6,
      "outputs": [
        {
          "output_type": "error",
          "ename": "AttributeError",
          "evalue": "ignored",
          "traceback": [
            "\u001b[0;31m---------------------------------------------------------------------------\u001b[0m",
            "\u001b[0;31mAttributeError\u001b[0m                            Traceback (most recent call last)",
            "\u001b[0;32m<ipython-input-6-6fff9ac7c074>\u001b[0m in \u001b[0;36m<module>\u001b[0;34m()\u001b[0m\n\u001b[0;32m----> 1\u001b[0;31m \u001b[0mprint\u001b[0m\u001b[0;34m(\u001b[0m\u001b[0mcar1\u001b[0m\u001b[0;34m.\u001b[0m\u001b[0mdescription\u001b[0m\u001b[0;34m(\u001b[0m\u001b[0;34m)\u001b[0m\u001b[0;34m)\u001b[0m\u001b[0;34m\u001b[0m\u001b[0;34m\u001b[0m\u001b[0m\n\u001b[0m",
            "\u001b[0;32m<ipython-input-2-716f655d5df7>\u001b[0m in \u001b[0;36mdescription\u001b[0;34m(self)\u001b[0m\n\u001b[1;32m      5\u001b[0m \u001b[0;34m\u001b[0m\u001b[0m\n\u001b[1;32m      6\u001b[0m   \u001b[0;32mdef\u001b[0m \u001b[0mdescription\u001b[0m\u001b[0;34m(\u001b[0m\u001b[0mself\u001b[0m\u001b[0;34m)\u001b[0m\u001b[0;34m:\u001b[0m\u001b[0;34m\u001b[0m\u001b[0;34m\u001b[0m\u001b[0m\n\u001b[0;32m----> 7\u001b[0;31m     \u001b[0;32mreturn\u001b[0m \u001b[0mself\u001b[0m\u001b[0;34m.\u001b[0m\u001b[0mbrand\u001b[0m\u001b[0;34m,\u001b[0m \u001b[0mself\u001b[0m\u001b[0;34m.\u001b[0m\u001b[0mmileage\u001b[0m\u001b[0;34m\u001b[0m\u001b[0;34m\u001b[0m\u001b[0m\n\u001b[0m\u001b[1;32m      8\u001b[0m \u001b[0;34m\u001b[0m\u001b[0m\n\u001b[1;32m      9\u001b[0m   \u001b[0;32mdef\u001b[0m \u001b[0mdisplay\u001b[0m\u001b[0;34m(\u001b[0m\u001b[0mself\u001b[0m\u001b[0;34m)\u001b[0m\u001b[0;34m:\u001b[0m\u001b[0;34m\u001b[0m\u001b[0;34m\u001b[0m\u001b[0m\n",
            "\u001b[0;31mAttributeError\u001b[0m: 'Car' object has no attribute 'mileage'"
          ]
        }
      ]
    },
    {
      "cell_type": "code",
      "source": [
        "#print(car1.mileage)\n",
        "print(car1.brand)"
      ],
      "metadata": {
        "colab": {
          "base_uri": "https://localhost:8080/"
        },
        "id": "AncMEMXugZjW",
        "outputId": "dcff1d6e-1ad1-4ec3-b76a-d0a9e6056c89"
      },
      "execution_count": 7,
      "outputs": [
        {
          "output_type": "stream",
          "name": "stdout",
          "text": [
            "Toyota\n"
          ]
        }
      ]
    },
    {
      "cell_type": "markdown",
      "source": [
        "Application 1 -Write a Python program that computes for the Area and Perimeter of a Rectangle. Name Rectangle as class name and length and with as attribute names"
      ],
      "metadata": {
        "id": "O6vP22KDgdB_"
      }
    },
    {
      "cell_type": "code",
      "source": [
        "class Rectangle:\n",
        "  def __init__(self, length, width):\n",
        "    self.length = length\n",
        "    self.width = width\n",
        "  \n",
        "  def Area(self):\n",
        "    return self.length*self.width\n",
        "\n",
        "  def Perimeter(self):\n",
        "    return 2*(self.length+self.width)\n",
        "  \n",
        "  def display(self):\n",
        "    print(\"Area of the Rectangle:\", self.Area())\n",
        "    print(\"Perimeter of the Rectangle:\", self.Perimeter())\n",
        "\n",
        "rec1 = Rectangle(5,7)\n",
        "print(rec1.display())"
      ],
      "metadata": {
        "colab": {
          "base_uri": "https://localhost:8080/"
        },
        "id": "o2xo83TngfHm",
        "outputId": "e6aadc0f-b491-41f7-c2c4-0255dc33d01c"
      },
      "execution_count": 8,
      "outputs": [
        {
          "output_type": "stream",
          "name": "stdout",
          "text": [
            "Area of the Rectangle: 35\n",
            "Perimeter of the Rectangle: 24\n",
            "None\n"
          ]
        }
      ]
    },
    {
      "cell_type": "markdown",
      "source": [
        "Application 2 - Write a Python program that displays your fullname (Surname, First Name), and name your class as OOP 58002"
      ],
      "metadata": {
        "id": "yxiyfuIPgkDL"
      }
    },
    {
      "cell_type": "code",
      "source": [
        "class OOP_58002:\n",
        "  def __init__(self, surname, firstname):\n",
        "    self.surname = surname\n",
        "    self.firstname = firstname\n",
        "\n",
        "  def description(self):\n",
        "    return self.surname, self.firstname\n",
        "  \n",
        "  def display(self):\n",
        "    print(\"Name:\", self.surname,\",\",self.firstname)\n",
        "    \n",
        "name1 = OOP_58002(\"Labios\", \"Jonn Cyrus\")\n",
        "print(name1.display())"
      ],
      "metadata": {
        "colab": {
          "base_uri": "https://localhost:8080/"
        },
        "id": "eqpvtuWwgnOx",
        "outputId": "27e440a5-f7fc-48c4-925a-9db79294f6e2"
      },
      "execution_count": 9,
      "outputs": [
        {
          "output_type": "stream",
          "name": "stdout",
          "text": [
            "Name: Labios , Jonn Cyrus\n",
            "None\n"
          ]
        }
      ]
    }
  ]
}