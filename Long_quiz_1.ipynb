{
  "nbformat": 4,
  "nbformat_minor": 0,
  "metadata": {
    "colab": {
      "name": "Long quiz 1",
      "provenance": [],
      "collapsed_sections": [],
      "toc_visible": true,
      "authorship_tag": "ABX9TyM/svTuDbT+MoICv0ie3Ot3",
      "include_colab_link": true
    },
    "kernelspec": {
      "name": "python3",
      "display_name": "Python 3"
    },
    "language_info": {
      "name": "python"
    }
  },
  "cells": [
    {
      "cell_type": "markdown",
      "metadata": {
        "id": "view-in-github",
        "colab_type": "text"
      },
      "source": [
        "<a href=\"https://colab.research.google.com/github/jayslabios/OOP-58002/blob/main/Long_quiz_1.ipynb\" target=\"_parent\"><img src=\"https://colab.research.google.com/assets/colab-badge.svg\" alt=\"Open In Colab\"/></a>"
      ]
    },
    {
      "cell_type": "markdown",
      "source": [
        "\n",
        "```\n",
        "# This is formatted as code\n",
        "```\n",
        "\n",
        "## Long quiz 1\n",
        "Labios, Jonn Cyrus T.\n",
        "OOP-58002"
      ],
      "metadata": {
        "id": "N8mRGzy9MG38"
      }
    },
    {
      "cell_type": "code",
      "source": [
        "Celsius_1 = float(input(\"Temperature value in degree Celsius:\"))\n",
        "\n",
        "#converting temperature from Celsius to Fahrenheit\n",
        "#Formula\n",
        "fahrenheit_1 = (Celsius_1 * 1.8) + 32\n",
        "\n",
        "#printing the results\n",
        "print ('The %.2f degree Celsius is equal to: %.2f Fahrenheit'  \n",
        "      %(Celsius_1, fahrenheit_1)) "
      ],
      "metadata": {
        "id": "1yV8YurvMIIK"
      },
      "execution_count": null,
      "outputs": []
    }
  ]
}